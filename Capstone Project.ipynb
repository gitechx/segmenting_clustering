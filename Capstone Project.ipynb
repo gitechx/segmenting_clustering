{
    "cells": [
        {
            "cell_type": "markdown",
            "metadata": {
                "collapsed": true
            },
            "source": "# Classification of Istanbul's socio-economic data using Istanbul Metropolitan Municipality and Foursquare data"
        },
        {
            "cell_type": "markdown",
            "metadata": {},
            "source": "## Introduction"
        },
        {
            "cell_type": "markdown",
            "metadata": {},
            "source": "__Region selection is extremely important for investors who are planning to establish a new business in Istanbul, one of the world's largest metropolises and brand cities. It is extremely important to know the socio-economic status of the people living in that region according to the type of work to be done.__\n\n__With the socio-economic status data of Istanbul, determining the target audience area, determining the location of the franchise / new branch, socio-economic analysis, measuring the potential to open a business, and probable turnover calculations can be made.__"
        },
        {
            "cell_type": "markdown",
            "metadata": {},
            "source": "###\u00a0Data"
        },
        {
            "cell_type": "markdown",
            "metadata": {},
            "source": "__We will use Foursquare location data and the district-based socio-economic data set \n(https://data.ibb.gov.tr/en/dataset/mahallem-istanbul-projesi-ses-sosyo-ekonomik-statu-skorlari/resource/859f3f2d-d06e-4f1c-ba3d-5fcf89744048 )from Istanbul Metropolitan Municipality Open Data service to help \ninvestors to make decisions with visual reports in which region they will initiate or acquire new businesses.__"
        },
        {
            "cell_type": "code",
            "execution_count": null,
            "metadata": {},
            "outputs": [],
            "source": ""
        }
    ],
    "metadata": {
        "kernelspec": {
            "display_name": "Python 3.7",
            "language": "python",
            "name": "python3"
        },
        "language_info": {
            "codemirror_mode": {
                "name": "ipython",
                "version": 3
            },
            "file_extension": ".py",
            "mimetype": "text/x-python",
            "name": "python",
            "nbconvert_exporter": "python",
            "pygments_lexer": "ipython3",
            "version": "3.7.9"
        }
    },
    "nbformat": 4,
    "nbformat_minor": 1
}